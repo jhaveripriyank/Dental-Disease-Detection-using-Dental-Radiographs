{
 "cells": [
  {
   "cell_type": "code",
   "execution_count": 7,
   "metadata": {},
   "outputs": [
    {
     "ename": "NotADirectoryError",
     "evalue": "[WinError 267] The directory name is invalid: 'result.csv'",
     "output_type": "error",
     "traceback": [
      "\u001b[1;31m---------------------------------------------------------------------------\u001b[0m",
      "\u001b[1;31mNotADirectoryError\u001b[0m                        Traceback (most recent call last)",
      "\u001b[1;32m~\\AppData\\Local\\Temp/ipykernel_11552/3521028758.py\u001b[0m in \u001b[0;36m<module>\u001b[1;34m\u001b[0m\n\u001b[0;32m      4\u001b[0m \u001b[1;32mimport\u001b[0m \u001b[0mpandas\u001b[0m \u001b[1;32mas\u001b[0m \u001b[0mpd\u001b[0m\u001b[1;33m\u001b[0m\u001b[1;33m\u001b[0m\u001b[0m\n\u001b[0;32m      5\u001b[0m \u001b[0mcwd\u001b[0m\u001b[1;33m=\u001b[0m\u001b[0mos\u001b[0m\u001b[1;33m.\u001b[0m\u001b[0mgetcwd\u001b[0m\u001b[1;33m(\u001b[0m\u001b[1;33m)\u001b[0m\u001b[1;33m\u001b[0m\u001b[1;33m\u001b[0m\u001b[0m\n\u001b[1;32m----> 6\u001b[1;33m \u001b[0mfiles\u001b[0m\u001b[1;33m=\u001b[0m\u001b[0mos\u001b[0m\u001b[1;33m.\u001b[0m\u001b[0mlistdir\u001b[0m\u001b[1;33m(\u001b[0m\u001b[1;34m'result.csv'\u001b[0m\u001b[1;33m)\u001b[0m\u001b[1;33m\u001b[0m\u001b[1;33m\u001b[0m\u001b[0m\n\u001b[0m\u001b[0;32m      7\u001b[0m \u001b[0mpath\u001b[0m\u001b[1;33m=\u001b[0m\u001b[1;34m'result.csv'\u001b[0m\u001b[1;33m\u001b[0m\u001b[1;33m\u001b[0m\u001b[0m\n\u001b[0;32m      8\u001b[0m \u001b[1;33m\u001b[0m\u001b[0m\n",
      "\u001b[1;31mNotADirectoryError\u001b[0m: [WinError 267] The directory name is invalid: 'result.csv'"
     ]
    }
   ],
   "source": [
    "from multi_label_pigeon import multi_label_annotate\n",
    "from IPython.display import display, Image\n",
    "import os\n",
    "import pandas as pd\n",
    "cwd=os.getcwd()\n",
    "files=os.listdir('DATASET')\n",
    "path='DATASET/'\n",
    "\n",
    "for i in range(0,len(files)):\n",
    "    files[i]=path + files[i]\n",
    "    \n",
    "    \n",
    "annotations = multi_label_annotate(\n",
    "    files,\n",
    "    options={'DISEASE':['yes','no','bad quality']},\n",
    "    display_fn=lambda filename: display(Image(filename))\n",
    "    )"
   ]
  },
  {
   "cell_type": "code",
   "execution_count": 5,
   "metadata": {},
   "outputs": [
    {
     "name": "stdout",
     "output_type": "stream",
     "text": [
      "                                                   DISEASE\n",
      "DATASET/img1 left-bot 14011365,-4,-F.jpg             [yes]\n",
      "DATASET/img10 left-top 24089653,-4,-F.jpg             [no]\n",
      "DATASET/img100 right-top 31292022,-6,-F.jpg  [bad quality]\n"
     ]
    }
   ],
   "source": [
    "from pandas import ExcelWriter\n",
    "from pandas import ExcelFile\n",
    "import openpyxl\n",
    "df=pd.DataFrame(annotations)\n",
    "df=df.T\n",
    "print(df)\n",
    "writer = ExcelWriter('result.xlsx')\n",
    "df.to_excel(writer, sheet_name='Sheet1')\n",
    "writer.save()"
   ]
  },
  {
   "cell_type": "code",
   "execution_count": 4,
   "metadata": {},
   "outputs": [
    {
     "name": "stdout",
     "output_type": "stream",
     "text": [
      "Collecting multi_label_pigeon\n",
      "  Downloading multi_label_pigeon-0.2.0-py3-none-any.whl (4.5 kB)\n",
      "Requirement already satisfied: ipywidgets in c:\\users\\yash\\anaconda3\\lib\\site-packages (from multi_label_pigeon) (7.6.5)\n",
      "Requirement already satisfied: ipython>=4.0.0 in c:\\users\\yash\\anaconda3\\lib\\site-packages (from ipywidgets->multi_label_pigeon) (7.29.0)\n",
      "Requirement already satisfied: ipython-genutils~=0.2.0 in c:\\users\\yash\\anaconda3\\lib\\site-packages (from ipywidgets->multi_label_pigeon) (0.2.0)\n",
      "Requirement already satisfied: widgetsnbextension~=3.5.0 in c:\\users\\yash\\anaconda3\\lib\\site-packages (from ipywidgets->multi_label_pigeon) (3.5.1)\n",
      "Requirement already satisfied: nbformat>=4.2.0 in c:\\users\\yash\\anaconda3\\lib\\site-packages (from ipywidgets->multi_label_pigeon) (5.1.3)\n",
      "Requirement already satisfied: traitlets>=4.3.1 in c:\\users\\yash\\anaconda3\\lib\\site-packages (from ipywidgets->multi_label_pigeon) (5.1.0)\n",
      "Requirement already satisfied: jupyterlab-widgets>=1.0.0 in c:\\users\\yash\\anaconda3\\lib\\site-packages (from ipywidgets->multi_label_pigeon) (1.0.0)\n",
      "Requirement already satisfied: ipykernel>=4.5.1 in c:\\users\\yash\\anaconda3\\lib\\site-packages (from ipywidgets->multi_label_pigeon) (6.4.1)\n",
      "Requirement already satisfied: debugpy<2.0,>=1.0.0 in c:\\users\\yash\\anaconda3\\lib\\site-packages (from ipykernel>=4.5.1->ipywidgets->multi_label_pigeon) (1.4.1)\n",
      "Requirement already satisfied: tornado<7.0,>=4.2 in c:\\users\\yash\\anaconda3\\lib\\site-packages (from ipykernel>=4.5.1->ipywidgets->multi_label_pigeon) (6.1)\n",
      "Requirement already satisfied: matplotlib-inline<0.2.0,>=0.1.0 in c:\\users\\yash\\anaconda3\\lib\\site-packages (from ipykernel>=4.5.1->ipywidgets->multi_label_pigeon) (0.1.2)\n",
      "Requirement already satisfied: jupyter-client<8.0 in c:\\users\\yash\\anaconda3\\lib\\site-packages (from ipykernel>=4.5.1->ipywidgets->multi_label_pigeon) (6.1.12)\n",
      "Requirement already satisfied: jedi>=0.16 in c:\\users\\yash\\anaconda3\\lib\\site-packages (from ipython>=4.0.0->ipywidgets->multi_label_pigeon) (0.18.0)\n",
      "Requirement already satisfied: pygments in c:\\users\\yash\\anaconda3\\lib\\site-packages (from ipython>=4.0.0->ipywidgets->multi_label_pigeon) (2.10.0)\n",
      "Requirement already satisfied: colorama in c:\\users\\yash\\anaconda3\\lib\\site-packages (from ipython>=4.0.0->ipywidgets->multi_label_pigeon) (0.4.4)\n",
      "Requirement already satisfied: backcall in c:\\users\\yash\\anaconda3\\lib\\site-packages (from ipython>=4.0.0->ipywidgets->multi_label_pigeon) (0.2.0)\n",
      "Requirement already satisfied: prompt-toolkit!=3.0.0,!=3.0.1,<3.1.0,>=2.0.0 in c:\\users\\yash\\anaconda3\\lib\\site-packages (from ipython>=4.0.0->ipywidgets->multi_label_pigeon) (3.0.20)\n",
      "Requirement already satisfied: setuptools>=18.5 in c:\\users\\yash\\anaconda3\\lib\\site-packages (from ipython>=4.0.0->ipywidgets->multi_label_pigeon) (58.0.4)\n",
      "Requirement already satisfied: pickleshare in c:\\users\\yash\\anaconda3\\lib\\site-packages (from ipython>=4.0.0->ipywidgets->multi_label_pigeon) (0.7.5)\n",
      "Requirement already satisfied: decorator in c:\\users\\yash\\anaconda3\\lib\\site-packages (from ipython>=4.0.0->ipywidgets->multi_label_pigeon) (5.1.0)\n",
      "Requirement already satisfied: parso<0.9.0,>=0.8.0 in c:\\users\\yash\\anaconda3\\lib\\site-packages (from jedi>=0.16->ipython>=4.0.0->ipywidgets->multi_label_pigeon) (0.8.2)\n",
      "Requirement already satisfied: jupyter-core>=4.6.0 in c:\\users\\yash\\anaconda3\\lib\\site-packages (from jupyter-client<8.0->ipykernel>=4.5.1->ipywidgets->multi_label_pigeon) (4.8.1)\n",
      "Requirement already satisfied: python-dateutil>=2.1 in c:\\users\\yash\\anaconda3\\lib\\site-packages (from jupyter-client<8.0->ipykernel>=4.5.1->ipywidgets->multi_label_pigeon) (2.8.2)\n",
      "Requirement already satisfied: pyzmq>=13 in c:\\users\\yash\\anaconda3\\lib\\site-packages (from jupyter-client<8.0->ipykernel>=4.5.1->ipywidgets->multi_label_pigeon) (22.2.1)\n",
      "Requirement already satisfied: pywin32>=1.0 in c:\\users\\yash\\anaconda3\\lib\\site-packages (from jupyter-core>=4.6.0->jupyter-client<8.0->ipykernel>=4.5.1->ipywidgets->multi_label_pigeon) (228)\n",
      "Requirement already satisfied: jsonschema!=2.5.0,>=2.4 in c:\\users\\yash\\anaconda3\\lib\\site-packages (from nbformat>=4.2.0->ipywidgets->multi_label_pigeon) (3.2.0)\n",
      "Requirement already satisfied: pyrsistent>=0.14.0 in c:\\users\\yash\\anaconda3\\lib\\site-packages (from jsonschema!=2.5.0,>=2.4->nbformat>=4.2.0->ipywidgets->multi_label_pigeon) (0.18.0)\n",
      "Requirement already satisfied: six>=1.11.0 in c:\\users\\yash\\anaconda3\\lib\\site-packages (from jsonschema!=2.5.0,>=2.4->nbformat>=4.2.0->ipywidgets->multi_label_pigeon) (1.16.0)\n",
      "Requirement already satisfied: attrs>=17.4.0 in c:\\users\\yash\\anaconda3\\lib\\site-packages (from jsonschema!=2.5.0,>=2.4->nbformat>=4.2.0->ipywidgets->multi_label_pigeon) (21.2.0)\n",
      "Requirement already satisfied: wcwidth in c:\\users\\yash\\anaconda3\\lib\\site-packages (from prompt-toolkit!=3.0.0,!=3.0.1,<3.1.0,>=2.0.0->ipython>=4.0.0->ipywidgets->multi_label_pigeon) (0.2.5)\n",
      "Requirement already satisfied: notebook>=4.4.1 in c:\\users\\yash\\anaconda3\\lib\\site-packages (from widgetsnbextension~=3.5.0->ipywidgets->multi_label_pigeon) (6.4.5)\n",
      "Requirement already satisfied: jinja2 in c:\\users\\yash\\anaconda3\\lib\\site-packages (from notebook>=4.4.1->widgetsnbextension~=3.5.0->ipywidgets->multi_label_pigeon) (2.11.3)\n",
      "Requirement already satisfied: prometheus-client in c:\\users\\yash\\anaconda3\\lib\\site-packages (from notebook>=4.4.1->widgetsnbextension~=3.5.0->ipywidgets->multi_label_pigeon) (0.11.0)\n",
      "Requirement already satisfied: terminado>=0.8.3 in c:\\users\\yash\\anaconda3\\lib\\site-packages (from notebook>=4.4.1->widgetsnbextension~=3.5.0->ipywidgets->multi_label_pigeon) (0.9.4)\n",
      "Requirement already satisfied: argon2-cffi in c:\\users\\yash\\anaconda3\\lib\\site-packages (from notebook>=4.4.1->widgetsnbextension~=3.5.0->ipywidgets->multi_label_pigeon) (20.1.0)\n",
      "Requirement already satisfied: Send2Trash>=1.5.0 in c:\\users\\yash\\anaconda3\\lib\\site-packages (from notebook>=4.4.1->widgetsnbextension~=3.5.0->ipywidgets->multi_label_pigeon) (1.8.0)\n",
      "Requirement already satisfied: nbconvert in c:\\users\\yash\\anaconda3\\lib\\site-packages (from notebook>=4.4.1->widgetsnbextension~=3.5.0->ipywidgets->multi_label_pigeon) (6.1.0)\n",
      "Requirement already satisfied: pywinpty>=0.5 in c:\\users\\yash\\anaconda3\\lib\\site-packages (from terminado>=0.8.3->notebook>=4.4.1->widgetsnbextension~=3.5.0->ipywidgets->multi_label_pigeon) (0.5.7)\n",
      "Requirement already satisfied: cffi>=1.0.0 in c:\\users\\yash\\anaconda3\\lib\\site-packages (from argon2-cffi->notebook>=4.4.1->widgetsnbextension~=3.5.0->ipywidgets->multi_label_pigeon) (1.14.6)\n",
      "Requirement already satisfied: pycparser in c:\\users\\yash\\anaconda3\\lib\\site-packages (from cffi>=1.0.0->argon2-cffi->notebook>=4.4.1->widgetsnbextension~=3.5.0->ipywidgets->multi_label_pigeon) (2.20)\n",
      "Requirement already satisfied: MarkupSafe>=0.23 in c:\\users\\yash\\anaconda3\\lib\\site-packages (from jinja2->notebook>=4.4.1->widgetsnbextension~=3.5.0->ipywidgets->multi_label_pigeon) (1.1.1)\n",
      "Requirement already satisfied: jupyterlab-pygments in c:\\users\\yash\\anaconda3\\lib\\site-packages (from nbconvert->notebook>=4.4.1->widgetsnbextension~=3.5.0->ipywidgets->multi_label_pigeon) (0.1.2)\n",
      "Requirement already satisfied: pandocfilters>=1.4.1 in c:\\users\\yash\\anaconda3\\lib\\site-packages (from nbconvert->notebook>=4.4.1->widgetsnbextension~=3.5.0->ipywidgets->multi_label_pigeon) (1.4.3)\n",
      "Requirement already satisfied: testpath in c:\\users\\yash\\anaconda3\\lib\\site-packages (from nbconvert->notebook>=4.4.1->widgetsnbextension~=3.5.0->ipywidgets->multi_label_pigeon) (0.5.0)\n",
      "Requirement already satisfied: entrypoints>=0.2.2 in c:\\users\\yash\\anaconda3\\lib\\site-packages (from nbconvert->notebook>=4.4.1->widgetsnbextension~=3.5.0->ipywidgets->multi_label_pigeon) (0.3)\n",
      "Requirement already satisfied: bleach in c:\\users\\yash\\anaconda3\\lib\\site-packages (from nbconvert->notebook>=4.4.1->widgetsnbextension~=3.5.0->ipywidgets->multi_label_pigeon) (4.0.0)\n",
      "Requirement already satisfied: nbclient<0.6.0,>=0.5.0 in c:\\users\\yash\\anaconda3\\lib\\site-packages (from nbconvert->notebook>=4.4.1->widgetsnbextension~=3.5.0->ipywidgets->multi_label_pigeon) (0.5.3)\n",
      "Requirement already satisfied: defusedxml in c:\\users\\yash\\anaconda3\\lib\\site-packages (from nbconvert->notebook>=4.4.1->widgetsnbextension~=3.5.0->ipywidgets->multi_label_pigeon) (0.7.1)\n",
      "Requirement already satisfied: mistune<2,>=0.8.1 in c:\\users\\yash\\anaconda3\\lib\\site-packages (from nbconvert->notebook>=4.4.1->widgetsnbextension~=3.5.0->ipywidgets->multi_label_pigeon) (0.8.4)\n",
      "Requirement already satisfied: nest-asyncio in c:\\users\\yash\\anaconda3\\lib\\site-packages (from nbclient<0.6.0,>=0.5.0->nbconvert->notebook>=4.4.1->widgetsnbextension~=3.5.0->ipywidgets->multi_label_pigeon) (1.5.1)\n",
      "Requirement already satisfied: async-generator in c:\\users\\yash\\anaconda3\\lib\\site-packages (from nbclient<0.6.0,>=0.5.0->nbconvert->notebook>=4.4.1->widgetsnbextension~=3.5.0->ipywidgets->multi_label_pigeon) (1.10)\n",
      "Requirement already satisfied: webencodings in c:\\users\\yash\\anaconda3\\lib\\site-packages (from bleach->nbconvert->notebook>=4.4.1->widgetsnbextension~=3.5.0->ipywidgets->multi_label_pigeon) (0.5.1)\n",
      "Requirement already satisfied: packaging in c:\\users\\yash\\anaconda3\\lib\\site-packages (from bleach->nbconvert->notebook>=4.4.1->widgetsnbextension~=3.5.0->ipywidgets->multi_label_pigeon) (21.0)\n",
      "Requirement already satisfied: pyparsing>=2.0.2 in c:\\users\\yash\\anaconda3\\lib\\site-packages (from packaging->bleach->nbconvert->notebook>=4.4.1->widgetsnbextension~=3.5.0->ipywidgets->multi_label_pigeon) (3.0.4)\n",
      "Installing collected packages: multi-label-pigeon\n",
      "Successfully installed multi-label-pigeon-0.2.0\n",
      "Note: you may need to restart the kernel to use updated packages.\n"
     ]
    }
   ],
   "source": [
    "pip install multi_label_pigeon"
   ]
  },
  {
   "cell_type": "code",
   "execution_count": 11,
   "metadata": {},
   "outputs": [],
   "source": []
  },
  {
   "cell_type": "code",
   "execution_count": null,
   "metadata": {},
   "outputs": [],
   "source": []
  }
 ],
 "metadata": {
  "kernelspec": {
   "display_name": "Python 3",
   "language": "python",
   "name": "python3"
  },
  "language_info": {
   "codemirror_mode": {
    "name": "ipython",
    "version": 3
   },
   "file_extension": ".py",
   "mimetype": "text/x-python",
   "name": "python",
   "nbconvert_exporter": "python",
   "pygments_lexer": "ipython3",
   "version": "3.9.7"
  }
 },
 "nbformat": 4,
 "nbformat_minor": 4
}
